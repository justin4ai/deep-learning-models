{
 "cells": [
  {
   "cell_type": "markdown",
   "metadata": {},
   "source": [
    "## sentdex - 딥러닝 Pt.10"
   ]
  },
  {
   "cell_type": "markdown",
   "metadata": {},
   "source": [
    "<h3> 목표 : RNN 시퀀스 데이터를 밸런싱해보자.</h3>\n",
    "<hr>"
   ]
  },
  {
   "cell_type": "code",
   "execution_count": 1,
   "metadata": {},
   "outputs": [
    {
     "name": "stdout",
     "output_type": "stream",
     "text": [
      "            LTC-USD_close     future  target\n",
      "time                                        \n",
      "1528968660      96.580002  96.500000       0\n",
      "1528968720      96.660004  96.389999       0\n",
      "1528968780      96.570000  96.519997       0\n",
      "1528968840      96.500000  96.440002       0\n",
      "1528968900      96.389999  96.470001       1\n",
      "1528968960      96.519997  96.400002       0\n",
      "1528969020      96.440002  96.400002       0\n",
      "1528969080      96.470001  96.400002       0\n",
      "1528969140      96.400002  96.400002       0\n",
      "1528969200      96.400002  96.400002       0\n"
     ]
    }
   ],
   "source": [
    "# 60분을 통해 3분 (미래) 예측\n",
    "\n",
    "SEQ_LEN = 60\n",
    "FUTURE_PERIOD_PREDICT = 3\n",
    "RATIO_TO_PREDICT = \"LTC-USD\"\n",
    "\n",
    "def classify(current, future):\n",
    "    if float(future) > float(current):\n",
    "        return 1\n",
    "    else:\n",
    "        return 0\n",
    "    \n",
    "import pandas as pd\n",
    "import os\n",
    "\n",
    "main_df = pd.DataFrame()\n",
    "\n",
    "ratios = [\"BTC-USD\", \"LTC-USD\", \"ETH-USD\", \"BCH-USD\"]\n",
    "for ratio in ratios:\n",
    "    dataset = f\"crypto_data/{ratio}.csv\"\n",
    "    \n",
    "    df = pd.read_csv(dataset,\n",
    "                     names = [\"time\", \"low\", \"high\", \"open\", \"close\", \"volume\"])\n",
    "    df.rename(columns = {\"close\" : f\"{ratio}_close\", \"volume\" : f\"{ratio}_volume\"}, inplace = True)\n",
    "    \n",
    "    df.set_index(\"time\", inplace = True)\n",
    "    df = df[[f\"{ratio}_close\", f\"{ratio}_volume\"]]\n",
    "    \n",
    "    if len(main_df) == 0:\n",
    "        main_df = df\n",
    "    else:\n",
    "        main_df = main_df.join(df)\n",
    "        \n",
    "# \"future\" 값은 사실 \"close\"가 3일치 밀린 (shifted) 값이다!\n",
    "main_df[\"future\"] = main_df[ f\"{RATIO_TO_PREDICT}_close\" ].shift(-FUTURE_PERIOD_PREDICT)        \n",
    "\n",
    "# 분류합시다 (ML은 아니지만)\n",
    "main_df['target'] = list(map(classify, main_df[ f\"{RATIO_TO_PREDICT}_close\"], main_df[\"future\"]))\n",
    "\n",
    "print(main_df[ [ f\"{RATIO_TO_PREDICT}_close\", \"future\", \"target\"] ].head(10))"
   ]
  },
  {
   "cell_type": "code",
   "execution_count": 2,
   "metadata": {},
   "outputs": [],
   "source": [
    "from sklearn import preprocessing\n",
    "from collections import deque\n",
    "import random\n",
    "import numpy as np\n",
    "\n",
    "def preprocess_df(df):\n",
    "    \n",
    "    # \"future\" 열은 이제 필요 없음\n",
    "    df = df.drop(\"future\", axis = 1)\n",
    "    \n",
    "    # scaling\n",
    "    for col in df.columns:\n",
    "        if col != \"target\":\n",
    "            \n",
    "            df[col] = df[col].pct_change()\n",
    "            df.dropna(inplace = True)\n",
    "            df[col] = preprocessing.scale(df[col].values)\n",
    "    \n",
    "    # 혹시 모르니까..\n",
    "    df.dropna(inplace = True)\n",
    "    \n",
    "    \n",
    "    sequential_data = []\n",
    "    prev_mins = deque(maxlen = SEQ_LEN)\n",
    "    \n",
    "    for i in df.values:  # df.values: df의 각 행\n",
    "        prev_mins.append([n for n in i[:-1]])  # why i[:-1]? : target class를 미포함시키기 위해서\n",
    "        \n",
    "        if len(prev_mins) == SEQ_LEN:\n",
    "            sequential_data.append([np.array(prev_mins), i[-1]])  # 지난 60일 ( (i)일 기준 ) + _일의 타겟값(i)\n",
    "            \n",
    "    random.shuffle(sequential_data)\n",
    "    \n",
    "    ########################################################################\n",
    "    ########################################################################\n",
    "    \n",
    "    # 밸런싱합시다!\n",
    "    # 사야될 날과 안되는 날을 구분\n",
    "    buys, sells = [], []\n",
    "    \n",
    "    for seq, target in sequential_data:\n",
    "        if target == 0:\n",
    "            sells.append([seq, target])\n",
    "        elif target == 1:\n",
    "            buys.append([seq, target])\n",
    "            \n",
    "    # 섞어섞어\n",
    "    random.shuffle(buys)\n",
    "    random.shuffle(sells)\n",
    "    \n",
    "    lower = min(len(buys), len(sells))\n",
    "    \n",
    "    # 최소 사이즈에 맞춰서 둘 다 잘라버림 - 밸런싱\n",
    "    buys = buys[:lower]\n",
    "    sells = sells[:lower]\n",
    "    \n",
    "    # 연쇄\n",
    "    sequential_data = buys + sells\n",
    "    random.shuffle(sequential_data)\n",
    "    \n",
    "    # X와 y로 스플릿\n",
    "    X = []\n",
    "    y = []\n",
    "    \n",
    "    for seq, target in sequential_data:\n",
    "        X.append(seq)\n",
    "        y.append(target)\n",
    "    \n",
    "    return np.array(X), y"
   ]
  },
  {
   "cell_type": "code",
   "execution_count": 3,
   "metadata": {},
   "outputs": [
    {
     "name": "stdout",
     "output_type": "stream",
     "text": [
      "train data: 69188 validation: 3062\n",
      "Dont buys: 34594, buys: 34594\n",
      "VALIDATION Dont buys: 1531, buys: 1531\n"
     ]
    }
   ],
   "source": [
    "times = sorted(main_df.index.values)\n",
    "last_5pct = times[-int(0.05 * len(times))] # threshold\n",
    "\n",
    "validation_main_df = main_df[ (main_df.index >= last_5pct)] # validation (5%)\n",
    "main_df = main_df[ (main_df.index < last_5pct)] # the rest\n",
    "\n",
    "train_x, train_y = preprocess_df(main_df)\n",
    "validation_x, validation_y = preprocess_df(validation_main_df)\n",
    "\n",
    "print(f\"train data: {len(train_x)} validation: {len(validation_x)}\")\n",
    "print(f\"Dont buys: {train_y.count(0)}, buys: {train_y.count(1)}\")\n",
    "print(f\"VALIDATION Dont buys: {validation_y.count(0)}, buys: {validation_y.count(1)}\")"
   ]
  },
  {
   "cell_type": "markdown",
   "metadata": {},
   "source": [
    "**이제 각 타겟에 해당하는 행의 크기가 같다 (buy / dont buy)!**"
   ]
  }
 ],
 "metadata": {
  "kernelspec": {
   "display_name": "Python 3",
   "language": "python",
   "name": "python3"
  },
  "language_info": {
   "codemirror_mode": {
    "name": "ipython",
    "version": 3
   },
   "file_extension": ".py",
   "mimetype": "text/x-python",
   "name": "python",
   "nbconvert_exporter": "python",
   "pygments_lexer": "ipython3",
   "version": "3.7.9"
  }
 },
 "nbformat": 4,
 "nbformat_minor": 4
}
