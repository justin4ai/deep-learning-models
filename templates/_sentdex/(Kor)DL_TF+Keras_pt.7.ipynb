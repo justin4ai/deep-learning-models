{
 "cells": [
  {
   "cell_type": "markdown",
   "metadata": {},
   "source": [
    "## sentdex - 딥러닝 Pt.7"
   ]
  },
  {
   "cell_type": "markdown",
   "metadata": {},
   "source": [
    "<h3> 목표 : RNN과 친해지자</h3>\n",
    "<hr>"
   ]
  },
  {
   "cell_type": "code",
   "execution_count": 1,
   "metadata": {},
   "outputs": [],
   "source": [
    "import warnings\n",
    "warnings.filterwarnings(action = \"ignore\")"
   ]
  },
  {
   "cell_type": "code",
   "execution_count": 2,
   "metadata": {},
   "outputs": [],
   "source": [
    "import tensorflow as tf\n",
    "from tensorflow.keras.models import Sequential\n",
    "from tensorflow.keras.layers import Dense, Dropout, LSTM #CuDNNLSTM"
   ]
  },
  {
   "cell_type": "code",
   "execution_count": 3,
   "metadata": {},
   "outputs": [
    {
     "name": "stdout",
     "output_type": "stream",
     "text": [
      "(60000, 28, 28)\n",
      "(28, 28)\n"
     ]
    }
   ],
   "source": [
    "mnist = tf.keras.datasets.mnist\n",
    "(x_train, y_train), (x_test, y_test) = mnist.load_data()\n",
    "\n",
    "print(x_train.shape) # 60000개의 샘플 이미지\n",
    "print(x_train[0].shape)"
   ]
  },
  {
   "cell_type": "markdown",
   "metadata": {},
   "source": [
    "**GPU 할당 문제**"
   ]
  },
  {
   "cell_type": "code",
   "execution_count": 4,
   "metadata": {},
   "outputs": [],
   "source": [
    "gpu_options = tf.GPUOptions(per_process_gpu_memory_fraction = 0.333)\n",
    "sess = tf.Session(config = tf.ConfigProto(gpu_options = gpu_options))"
   ]
  },
  {
   "cell_type": "markdown",
   "metadata": {},
   "source": [
    "**정규화!**"
   ]
  },
  {
   "cell_type": "code",
   "execution_count": 5,
   "metadata": {},
   "outputs": [],
   "source": [
    "x_train = x_train/255.0\n",
    "x_test = x_test/255.0"
   ]
  },
  {
   "cell_type": "code",
   "execution_count": 6,
   "metadata": {},
   "outputs": [
    {
     "name": "stdout",
     "output_type": "stream",
     "text": [
      "WARNING:tensorflow:From C:\\Users\\hewas\\anaconda3\\lib\\site-packages\\tensorflow\\python\\ops\\init_ops.py:1251: calling VarianceScaling.__init__ (from tensorflow.python.ops.init_ops) with dtype is deprecated and will be removed in a future version.\n",
      "Instructions for updating:\n",
      "Call initializer instance with the dtype argument instead of passing it to the constructor\n",
      "Train on 60000 samples, validate on 10000 samples\n",
      "WARNING:tensorflow:From C:\\Users\\hewas\\anaconda3\\lib\\site-packages\\tensorflow\\python\\ops\\math_grad.py:1250: add_dispatch_support.<locals>.wrapper (from tensorflow.python.ops.array_ops) is deprecated and will be removed in a future version.\n",
      "Instructions for updating:\n",
      "Use tf.where in 2.0, which has the same broadcast rule as np.where\n",
      "Epoch 1/3\n",
      "60000/60000 [==============================] - 160s 3ms/sample - loss: 0.6328 - acc: 0.7918 - val_loss: 0.1741 - val_acc: 0.9473\n",
      "Epoch 2/3\n",
      "60000/60000 [==============================] - 159s 3ms/sample - loss: 0.1700 - acc: 0.9537 - val_loss: 0.0998 - val_acc: 0.9709\n",
      "Epoch 3/3\n",
      "60000/60000 [==============================] - 159s 3ms/sample - loss: 0.1157 - acc: 0.9694 - val_loss: 0.0755 - val_acc: 0.9776\n"
     ]
    },
    {
     "data": {
      "text/plain": [
       "<tensorflow.python.keras.callbacks.History at 0x26cae4c7188>"
      ]
     },
     "execution_count": 6,
     "metadata": {},
     "output_type": "execute_result"
    }
   ],
   "source": [
    "model = Sequential()\n",
    "\n",
    "# Layer1 - LSTM (Input) 셀\n",
    "model.add(LSTM(128, input_shape = (x_train.shape[1:]), activation = \"relu\",\n",
    "          return_sequences = True))\n",
    "model.add(Dropout(0.2)) # 오버피팅 방지를 위한 드롭아웃 추가\n",
    "\n",
    "# Layer2 - LSTM 셀\n",
    "model.add(LSTM(128, activation = \"relu\"))\n",
    "model.add(Dropout(0.2))\n",
    "\n",
    "# Layer3 - Dense layer\n",
    "model.add(Dense(32, activation = \"relu\"))\n",
    "model.add(Dropout(0.2))\n",
    "\n",
    "# Layer4 - Dense (Output) layer\n",
    "model.add(Dense(10, activation = \"softmax\"))\n",
    "\n",
    "opt = tf.keras.optimizers.Adam(lr = 1e-3, decay = 1e-5) # decay로 점점 스텝 사이즈 감소\n",
    "\n",
    "model.compile(loss = \"sparse_categorical_crossentropy\",\n",
    "             optimizer = opt,\n",
    "             metrics = ['accuracy'])\n",
    "\n",
    "model.fit(x_train, y_train, epochs = 3, validation_data = (x_test, y_test))"
   ]
  },
  {
   "cell_type": "markdown",
   "metadata": {},
   "source": [
    "<hr><hr><hr><br>\n",
    "<h4>CuDNNLSTM 사용을 위해선 tensorflow 말고 tensorflow-gpu로 바꿔서 깔 것!</h4>\n",
    "<h4>CuDNNLSTM : 훨씬 빠름!!!!</h4>"
   ]
  },
  {
   "cell_type": "code",
   "execution_count": 7,
   "metadata": {},
   "outputs": [],
   "source": [
    "from tensorflow.keras.layers import CuDNNLSTM"
   ]
  },
  {
   "cell_type": "code",
   "execution_count": 8,
   "metadata": {},
   "outputs": [
    {
     "name": "stdout",
     "output_type": "stream",
     "text": [
      "(60000, 28, 28)\n",
      "(28, 28)\n",
      "Train on 60000 samples, validate on 10000 samples\n",
      "Epoch 1/3\n",
      "60000/60000 [==============================] - 16s 260us/sample - loss: 0.4027 - acc: 0.8786 - val_loss: 0.1177 - val_acc: 0.9657\n",
      "Epoch 2/3\n",
      "60000/60000 [==============================] - 14s 238us/sample - loss: 0.1268 - acc: 0.9666 - val_loss: 0.0944 - val_acc: 0.9750\n",
      "Epoch 3/3\n",
      "60000/60000 [==============================] - 14s 238us/sample - loss: 0.0886 - acc: 0.9769 - val_loss: 0.0565 - val_acc: 0.9835\n"
     ]
    },
    {
     "data": {
      "text/plain": [
       "<tensorflow.python.keras.callbacks.History at 0x26d5fdec148>"
      ]
     },
     "execution_count": 8,
     "metadata": {},
     "output_type": "execute_result"
    }
   ],
   "source": [
    "mnist = tf.keras.datasets.mnist\n",
    "(x_train, y_train), (x_test, y_test) = mnist.load_data()\n",
    "\n",
    "print(x_train.shape) # 60000개 샘플 이미지\n",
    "print(x_train[0].shape)\n",
    "\n",
    "x_train = x_train/255.0\n",
    "x_test = x_test/255.0\n",
    "\n",
    "model = Sequential()\n",
    "\n",
    "model.add(CuDNNLSTM(128, input_shape = (x_train.shape[1:]),\n",
    "          return_sequences = True))\n",
    "model.add(Dropout(0.2))\n",
    "\n",
    "model.add(CuDNNLSTM(128))\n",
    "model.add(Dropout(0.2))\n",
    "\n",
    "model.add(Dense(32, activation = \"relu\"))\n",
    "model.add(Dropout(0.2))\n",
    "\n",
    "model.add(Dense(10, activation = \"softmax\"))\n",
    "\n",
    "opt = tf.keras.optimizers.Adam(lr = 1e-3, decay = 1e-5)\n",
    "\n",
    "model.compile(loss = \"sparse_categorical_crossentropy\",\n",
    "             optimizer = opt,\n",
    "             metrics = ['accuracy'])\n",
    "\n",
    "model.fit(x_train, y_train, epochs = 3, validation_data = (x_test, y_test))"
   ]
  },
  {
   "cell_type": "markdown",
   "metadata": {},
   "source": [
    "Someday Imma solve the error...   \n",
    "Tensorflow Official Website on GPU : https://www.tensorflow.org/install/gpu   \n",
    "Cuda Installation : https://docs.nvidia.com/deeplearning/cudnn/install-guide/index.html#download-windows"
   ]
  }
 ],
 "metadata": {
  "kernelspec": {
   "display_name": "Python 3",
   "language": "python",
   "name": "python3"
  },
  "language_info": {
   "codemirror_mode": {
    "name": "ipython",
    "version": 3
   },
   "file_extension": ".py",
   "mimetype": "text/x-python",
   "name": "python",
   "nbconvert_exporter": "python",
   "pygments_lexer": "ipython3",
   "version": "3.7.9"
  }
 },
 "nbformat": 4,
 "nbformat_minor": 4
}
