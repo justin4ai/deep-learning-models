{
 "cells": [
  {
   "cell_type": "markdown",
   "metadata": {},
   "source": [
    "## sentdex - 딥러닝 Pt.4"
   ]
  },
  {
   "cell_type": "markdown",
   "metadata": {},
   "source": [
    "<h3> 목표 : 텐서보드를 이용해서 모델의 로그를 저장해보자. </h3>\n",
    "<hr>"
   ]
  },
  {
   "cell_type": "code",
   "execution_count": 22,
   "metadata": {},
   "outputs": [],
   "source": [
    "import warnings\n",
    "warnings.filterwarnings(action='ignore')"
   ]
  },
  {
   "cell_type": "code",
   "execution_count": 23,
   "metadata": {},
   "outputs": [],
   "source": [
    "import tensorflow as tf\n",
    "from tensorflow.keras.datasets import cifar10\n",
    "from tensorflow.keras.preprocessing.image import ImageDataGenerator\n",
    "from tensorflow.keras.models import Sequential\n",
    "from tensorflow.keras.layers import Dense, Dropout, Activation, Flatten, Conv2D, MaxPooling2D\n",
    "import pickle\n",
    "import time"
   ]
  },
  {
   "cell_type": "markdown",
   "metadata": {},
   "source": [
    "**GPU 할당**"
   ]
  },
  {
   "cell_type": "code",
   "execution_count": 24,
   "metadata": {},
   "outputs": [],
   "source": [
    "gpu_options = tf.GPUOptions(per_process_gpu_memory_fraction = 0.333)\n",
    "sess = tf.Session(config = tf.ConfigProto(gpu_options = gpu_options))"
   ]
  },
  {
   "cell_type": "markdown",
   "metadata": {},
   "source": [
    "**텐서보드 이용!**   \n",
    "**- 모델이 훈련되는 동안 로그를 볼 수 있게 해준다.**   \n",
    "**- '가장 좋은' 스코어를 볼 수 있도록 해준다.**"
   ]
  },
  {
   "cell_type": "code",
   "execution_count": 25,
   "metadata": {},
   "outputs": [],
   "source": [
    "from tensorflow.keras.callbacks import TensorBoard\n",
    "\n",
    "NAME = \"Cats-vs-dog-cnn-64x2-{}\".format(int(time.time()))"
   ]
  },
  {
   "cell_type": "code",
   "execution_count": 26,
   "metadata": {},
   "outputs": [],
   "source": [
    "tensorboard = TensorBoard(log_dir = \"logs\\\\{}\".format(NAME))"
   ]
  },
  {
   "cell_type": "markdown",
   "metadata": {},
   "source": [
    "**Pt.3와 거의 비슷한 코드**"
   ]
  },
  {
   "cell_type": "code",
   "execution_count": 27,
   "metadata": {},
   "outputs": [],
   "source": [
    "X = pickle.load(open(\"X.pickle\", \"rb\"))\n",
    "y = pickle.load(open(\"Y.pickle\", \"rb\"))\n",
    "\n",
    "X = X/255.0\n",
    "\n",
    "model = Sequential()\n",
    "\n",
    "## Layer 1\n",
    "model.add(   Conv2D(64, (3,3), input_shape = X.shape[1:])   )  # 64 units, 3x3 windowsize (for next)\n",
    "model.add(Activation(\"relu\"))\n",
    "model.add(MaxPooling2D(pool_size = (2, 2)))\n",
    "\n",
    "## Layer 2\n",
    "model.add(   Conv2D(64, (3,3))   )\n",
    "model.add(Activation(\"relu\"))\n",
    "model.add(MaxPooling2D(pool_size = (2, 2)))\n",
    "\n",
    "## Layer 3\n",
    "## 2D from CNN into 1D for Dense layer\n",
    "model.add(Flatten())\n",
    "model.add(Dense(64))\n",
    "model.add(Activation(\"relu\"))\n",
    "\n",
    "model.add(Dense(1))  # output layer\n",
    "model.add(Activation(\"sigmoid\"))\n",
    "\n",
    "model.compile(loss = \"binary_crossentropy\",\n",
    "             optimizer = \"adam\",\n",
    "             metrics = ['accuracy'])"
   ]
  },
  {
   "cell_type": "markdown",
   "metadata": {},
   "source": [
    "### 텐서보드 이용법\n",
    "\n",
    "1. **모델 피팅 코드 (아래) 돌리기**\n",
    "2. **돌리는 동안 cmd 열기**\n",
    "3. **\" tensorboard --logdir=\"DL_Recap/sentdex/logs/\" (디렉토리 위치는 컴퓨터 환경에 따라 바뀔 수 있음) 커맨드 입력**\n",
    "4. **cmd 켜놓은 상태로 http://localhost:6006에 접속**"
   ]
  },
  {
   "cell_type": "code",
   "execution_count": null,
   "metadata": {},
   "outputs": [
    {
     "name": "stdout",
     "output_type": "stream",
     "text": [
      "Train on 17462 samples, validate on 7484 samples\n",
      "Epoch 1/5\n",
      "17462/17462 [==============================] - 64s 4ms/sample - loss: 0.6360 - acc: 0.6297 - val_loss: 0.5656 - val_acc: 0.7096\n",
      "Epoch 2/5\n",
      "17462/17462 [==============================] - 61s 3ms/sample - loss: 0.5242 - acc: 0.7390 - val_loss: 0.4996 - val_acc: 0.7563\n",
      "Epoch 3/5\n",
      "17462/17462 [==============================] - 60s 3ms/sample - loss: 0.4529 - acc: 0.7838 - val_loss: 0.4663 - val_acc: 0.7769\n",
      "Epoch 4/5\n",
      "12192/17462 [===================>..........] - ETA: 15s - loss: 0.3897 - acc: 0.8242"
     ]
    }
   ],
   "source": [
    "model.fit(X, y, batch_size = 32, epochs = 5, validation_split = 0.3, callbacks = [tensorboard])  # batch_size\n"
   ]
  }
 ],
 "metadata": {
  "kernelspec": {
   "display_name": "Python 3",
   "language": "python",
   "name": "python3"
  },
  "language_info": {
   "codemirror_mode": {
    "name": "ipython",
    "version": 3
   },
   "file_extension": ".py",
   "mimetype": "text/x-python",
   "name": "python",
   "nbconvert_exporter": "python",
   "pygments_lexer": "ipython3",
   "version": "3.7.9"
  }
 },
 "nbformat": 4,
 "nbformat_minor": 4
}
