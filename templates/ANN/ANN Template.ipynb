{
 "cells": [
  {
   "cell_type": "markdown",
   "metadata": {},
   "source": [
    "<h1><span style = \"background-color : skyblue\"> Artificial Neural Networks Template </span> </h1>\n",
    "1 March, 2021 - <strong>Junyeong Ahn</strong>"
   ]
  },
  {
   "cell_type": "code",
   "execution_count": 1,
   "metadata": {},
   "outputs": [],
   "source": [
    "import numpy as np\n",
    "import matplotlib.pyplot as plt\n",
    "import pandas as pd"
   ]
  },
  {
   "cell_type": "markdown",
   "metadata": {},
   "source": [
    "## Generating Random Data Set for Model"
   ]
  },
  {
   "cell_type": "code",
   "execution_count": 2,
   "metadata": {},
   "outputs": [],
   "source": [
    "X = np.vstack( [(np.random.rand(10, 2) * 5), (np.random.rand(10, 2) * 10)] )\n",
    "Y = np.hstack( ([0] * 10, [1] * 10))\n",
    "dataset = pd.DataFrame(X, columns = {\"X1\", \"X2\"})\n",
    "dataset[\"Y\"] = Y"
   ]
  },
  {
   "cell_type": "markdown",
   "metadata": {},
   "source": [
    "## Random DataSet Generated"
   ]
  },
  {
   "cell_type": "code",
   "execution_count": 3,
   "metadata": {},
   "outputs": [
    {
     "data": {
      "text/html": [
       "<div>\n",
       "<style scoped>\n",
       "    .dataframe tbody tr th:only-of-type {\n",
       "        vertical-align: middle;\n",
       "    }\n",
       "\n",
       "    .dataframe tbody tr th {\n",
       "        vertical-align: top;\n",
       "    }\n",
       "\n",
       "    .dataframe thead th {\n",
       "        text-align: right;\n",
       "    }\n",
       "</style>\n",
       "<table border=\"1\" class=\"dataframe\">\n",
       "  <thead>\n",
       "    <tr style=\"text-align: right;\">\n",
       "      <th></th>\n",
       "      <th>X1</th>\n",
       "      <th>X2</th>\n",
       "      <th>Y</th>\n",
       "    </tr>\n",
       "  </thead>\n",
       "  <tbody>\n",
       "    <tr>\n",
       "      <th>0</th>\n",
       "      <td>2.483795</td>\n",
       "      <td>1.793659</td>\n",
       "      <td>0</td>\n",
       "    </tr>\n",
       "    <tr>\n",
       "      <th>1</th>\n",
       "      <td>3.337603</td>\n",
       "      <td>0.469203</td>\n",
       "      <td>0</td>\n",
       "    </tr>\n",
       "    <tr>\n",
       "      <th>2</th>\n",
       "      <td>0.714813</td>\n",
       "      <td>0.854079</td>\n",
       "      <td>0</td>\n",
       "    </tr>\n",
       "    <tr>\n",
       "      <th>3</th>\n",
       "      <td>1.257849</td>\n",
       "      <td>1.997500</td>\n",
       "      <td>0</td>\n",
       "    </tr>\n",
       "    <tr>\n",
       "      <th>4</th>\n",
       "      <td>3.582748</td>\n",
       "      <td>1.210699</td>\n",
       "      <td>0</td>\n",
       "    </tr>\n",
       "    <tr>\n",
       "      <th>5</th>\n",
       "      <td>4.496715</td>\n",
       "      <td>2.261474</td>\n",
       "      <td>0</td>\n",
       "    </tr>\n",
       "    <tr>\n",
       "      <th>6</th>\n",
       "      <td>4.096344</td>\n",
       "      <td>1.135429</td>\n",
       "      <td>0</td>\n",
       "    </tr>\n",
       "    <tr>\n",
       "      <th>7</th>\n",
       "      <td>4.798000</td>\n",
       "      <td>3.934992</td>\n",
       "      <td>0</td>\n",
       "    </tr>\n",
       "    <tr>\n",
       "      <th>8</th>\n",
       "      <td>3.419638</td>\n",
       "      <td>1.527106</td>\n",
       "      <td>0</td>\n",
       "    </tr>\n",
       "    <tr>\n",
       "      <th>9</th>\n",
       "      <td>0.989128</td>\n",
       "      <td>3.633260</td>\n",
       "      <td>0</td>\n",
       "    </tr>\n",
       "    <tr>\n",
       "      <th>10</th>\n",
       "      <td>6.901698</td>\n",
       "      <td>4.938833</td>\n",
       "      <td>1</td>\n",
       "    </tr>\n",
       "    <tr>\n",
       "      <th>11</th>\n",
       "      <td>1.925845</td>\n",
       "      <td>6.873372</td>\n",
       "      <td>1</td>\n",
       "    </tr>\n",
       "    <tr>\n",
       "      <th>12</th>\n",
       "      <td>0.140616</td>\n",
       "      <td>0.689205</td>\n",
       "      <td>1</td>\n",
       "    </tr>\n",
       "    <tr>\n",
       "      <th>13</th>\n",
       "      <td>2.985237</td>\n",
       "      <td>7.237922</td>\n",
       "      <td>1</td>\n",
       "    </tr>\n",
       "    <tr>\n",
       "      <th>14</th>\n",
       "      <td>1.389059</td>\n",
       "      <td>3.128859</td>\n",
       "      <td>1</td>\n",
       "    </tr>\n",
       "    <tr>\n",
       "      <th>15</th>\n",
       "      <td>9.652467</td>\n",
       "      <td>0.755464</td>\n",
       "      <td>1</td>\n",
       "    </tr>\n",
       "    <tr>\n",
       "      <th>16</th>\n",
       "      <td>3.359206</td>\n",
       "      <td>4.240627</td>\n",
       "      <td>1</td>\n",
       "    </tr>\n",
       "    <tr>\n",
       "      <th>17</th>\n",
       "      <td>7.535873</td>\n",
       "      <td>6.451612</td>\n",
       "      <td>1</td>\n",
       "    </tr>\n",
       "    <tr>\n",
       "      <th>18</th>\n",
       "      <td>0.634274</td>\n",
       "      <td>2.190730</td>\n",
       "      <td>1</td>\n",
       "    </tr>\n",
       "    <tr>\n",
       "      <th>19</th>\n",
       "      <td>4.610875</td>\n",
       "      <td>2.573063</td>\n",
       "      <td>1</td>\n",
       "    </tr>\n",
       "  </tbody>\n",
       "</table>\n",
       "</div>"
      ],
      "text/plain": [
       "          X1        X2  Y\n",
       "0   2.483795  1.793659  0\n",
       "1   3.337603  0.469203  0\n",
       "2   0.714813  0.854079  0\n",
       "3   1.257849  1.997500  0\n",
       "4   3.582748  1.210699  0\n",
       "5   4.496715  2.261474  0\n",
       "6   4.096344  1.135429  0\n",
       "7   4.798000  3.934992  0\n",
       "8   3.419638  1.527106  0\n",
       "9   0.989128  3.633260  0\n",
       "10  6.901698  4.938833  1\n",
       "11  1.925845  6.873372  1\n",
       "12  0.140616  0.689205  1\n",
       "13  2.985237  7.237922  1\n",
       "14  1.389059  3.128859  1\n",
       "15  9.652467  0.755464  1\n",
       "16  3.359206  4.240627  1\n",
       "17  7.535873  6.451612  1\n",
       "18  0.634274  2.190730  1\n",
       "19  4.610875  2.573063  1"
      ]
     },
     "execution_count": 3,
     "metadata": {},
     "output_type": "execute_result"
    }
   ],
   "source": [
    "dataset"
   ]
  },
  {
   "cell_type": "markdown",
   "metadata": {},
   "source": [
    "## Plotting Dataset Values"
   ]
  },
  {
   "cell_type": "code",
   "execution_count": 5,
   "metadata": {},
   "outputs": [
    {
     "data": {
      "text/plain": [
       "<matplotlib.legend.Legend at 0x195cc23a788>"
      ]
     },
     "execution_count": 5,
     "metadata": {},
     "output_type": "execute_result"
    },
    {
     "data": {
      "image/png": "[encoded data removed]",
      "text/plain": [
       "<Figure size 432x288 with 1 Axes>"
      ]
     },
     "metadata": {
      "needs_background": "light"
     },
     "output_type": "display_data"
    }
   ],
   "source": [
    "plt.plot(dataset, label = \"Inline label\")\n",
    "plt.legend([\"X2\", \"X1\", \"Y\"])"
   ]
  },
  {
   "cell_type": "markdown",
   "metadata": {},
   "source": [
    "## Converting Target Variable to Vector of # of Classes"
   ]
  },
  {
   "cell_type": "code",
   "execution_count": 6,
   "metadata": {},
   "outputs": [],
   "source": [
    "Z = np.zeros( (20, 2))\n",
    "for i in range(20):\n",
    "    Z[i, Y[i]] = 1"
   ]
  },
  {
   "cell_type": "code",
   "execution_count": 7,
   "metadata": {},
   "outputs": [
    {
     "data": {
      "text/plain": [
       "(20, 2)"
      ]
     },
     "execution_count": 7,
     "metadata": {},
     "output_type": "execute_result"
    }
   ],
   "source": [
    "X.shape"
   ]
  },
  {
   "cell_type": "markdown",
   "metadata": {},
   "source": [
    "## Initiating Random Weights and Bias"
   ]
  },
  {
   "cell_type": "code",
   "execution_count": 8,
   "metadata": {},
   "outputs": [],
   "source": [
    "Wi_1 = np.random.randn(3, 2)\n",
    "Bi_1 = np.random.randn(3)\n",
    "Wi_2 = np.random.randn(3, 2)\n",
    "Bi_2 = np.random.randn(2)"
   ]
  },
  {
   "cell_type": "markdown",
   "metadata": {},
   "source": [
    "## Defining the Forward Propagation Function"
   ]
  },
  {
   "cell_type": "code",
   "execution_count": 11,
   "metadata": {},
   "outputs": [],
   "source": [
    "def forward_prop(X, wi_1, Bi_1, Wi_2, Bi_2):\n",
    "    \n",
    "    # first layer\n",
    "    M = 1 / (1 + np.exp( -(X.dot(Wi_1.T) + Bi_1)))\n",
    "    \n",
    "    # second layer\n",
    "    A = M.dot(Wi_2) + Bi_2\n",
    "    expA = np.exp(A)\n",
    "    Y = expA / expA.sum(axis = 1, keepdims = True)\n",
    "    return Y, M"
   ]
  },
  {
   "cell_type": "code",
   "execution_count": 18,
   "metadata": {},
   "outputs": [
    {
     "data": {
      "text/plain": [
       "(array([[0.00653246, 0.99346754],\n",
       "        [0.00835829, 0.99164171],\n",
       "        [0.0208888 , 0.9791112 ],\n",
       "        [0.00718869, 0.99281131],\n",
       "        [0.00735424, 0.99264576],\n",
       "        [0.00698748, 0.99301252],\n",
       "        [0.00744262, 0.99255738],\n",
       "        [0.00632613, 0.99367387],\n",
       "        [0.00702667, 0.99297333],\n",
       "        [0.00420689, 0.99579311],\n",
       "        [0.00718685, 0.99281315],\n",
       "        [0.00328602, 0.99671398],\n",
       "        [0.03602245, 0.96397755],\n",
       "        [0.00364839, 0.99635161],\n",
       "        [0.00469067, 0.99530933],\n",
       "        [0.0076656 , 0.9923344 ],\n",
       "        [0.0048379 , 0.9951621 ],\n",
       "        [0.0070108 , 0.9929892 ],\n",
       "        [0.00838223, 0.99161777],\n",
       "        [0.00690186, 0.99309814]]),\n",
       " array([[9.49089013e-01, 4.30110224e-01, 1.69513360e-02],\n",
       "        [9.48256216e-01, 1.31198860e-01, 6.18276779e-03],\n",
       "        [5.60069474e-01, 6.78113344e-01, 7.16729992e-02],\n",
       "        [8.45083091e-01, 7.24219194e-01, 5.31954500e-02],\n",
       "        [9.76604532e-01, 1.61136203e-01, 5.56449145e-03],\n",
       "        [9.96071635e-01, 1.38704638e-01, 2.82571273e-03],\n",
       "        [9.85989508e-01, 1.02861620e-01, 3.40557339e-03],\n",
       "        [9.99183796e-01, 2.58647926e-01, 2.81621670e-03],\n",
       "        [9.77721440e-01, 2.13707589e-01, 6.82401175e-03],\n",
       "        [9.30975391e-01, 9.03375465e-01, 8.66406374e-02],\n",
       "        [9.99963496e-01, 8.74756451e-02, 4.65878822e-04],\n",
       "        [9.97642198e-01, 9.67998410e-01, 6.34107198e-02],\n",
       "        [3.71375023e-01, 7.62432584e-01, 1.13913823e-01],\n",
       "        [9.99452034e-01, 9.35269299e-01, 2.59997152e-02],\n",
       "        [9.35798993e-01, 8.25531033e-01, 5.65945147e-02],\n",
       "        [9.99963740e-01, 5.66064260e-04, 1.77041705e-05],\n",
       "        [9.96720619e-01, 6.11103696e-01, 1.12929691e-02],\n",
       "        [9.99994146e-01, 1.21707953e-01, 3.31094459e-04],\n",
       "        [7.57236202e-01, 8.39673241e-01, 9.41995763e-02],\n",
       "        [9.97251827e-01, 1.49928596e-01, 2.67499069e-03]]))"
      ]
     },
     "execution_count": 18,
     "metadata": {},
     "output_type": "execute_result"
    }
   ],
   "source": [
    "forward_prop(X, Wi_1, Bi_1, Wi_2, Bi_2)"
   ]
  },
  {
   "cell_type": "markdown",
   "metadata": {},
   "source": [
    "## Back Propagation by Differentiating or Gradient Descent"
   ]
  },
  {
   "cell_type": "code",
   "execution_count": 19,
   "metadata": {},
   "outputs": [],
   "source": [
    "# Returns gradient for Weight_2\n",
    "def diff_Wi_2(H, Z, Y):\n",
    "    return H.T.dot(Z - Y)"
   ]
  },
  {
   "cell_type": "code",
   "execution_count": 21,
   "metadata": {},
   "outputs": [],
   "source": [
    "# Returns gradient for Weight_1\n",
    "def diff_Wi_1(X, H, Z, output, Wi_2):\n",
    "    dZ = (Z - output).dot(Wi_2.T) * H * (1 - H)\n",
    "    return X.T.dot(dZ)"
   ]
  },
  {
   "cell_type": "code",
   "execution_count": 23,
   "metadata": {},
   "outputs": [],
   "source": [
    "# Returns derivative for both bias\n",
    "def diff_B2(Z, Y):\n",
    "    return (Z - Y).sum(axis = 0)\n",
    "\n",
    "def diff_B1(Z, Y, Wi_2, H):\n",
    "    return ((Z - Y).dot(Wi_2.T) * H * (1 - H)).sum(axis = 0)"
   ]
  },
  {
   "cell_type": "code",
   "execution_count": 25,
   "metadata": {},
   "outputs": [],
   "source": [
    "lr = 1e-3\n",
    "for epoch in range(5000):\n",
    "    output, hidden = forward_prop(X, Wi_1, Bi_1, Wi_2, Bi_2)\n",
    "    Wi_2 += lr * diff_Wi_2(hidden, Z, output)\n",
    "    Bi_2 += lr * diff_B2(Z, output)\n",
    "    Wi_1 += lr * diff_Wi_1(X, hidden, Z, output, Wi_2).T\n",
    "    Bi_1 += lr * diff_B1(Z, output, Wi_2, hidden)"
   ]
  },
  {
   "cell_type": "markdown",
   "metadata": {},
   "source": [
    "## Generating Prediction at New Datapoint"
   ]
  },
  {
   "cell_type": "code",
   "execution_count": 27,
   "metadata": {},
   "outputs": [
    {
     "name": "stdout",
     "output_type": "stream",
     "text": [
      " prob of class 0 >>>>>>>> 0.020778430736444618 \n",
      " prob of class 1 >>>>>>>> 0.9792215692635553\n"
     ]
    }
   ],
   "source": [
    "X_test = np.array([5, 7])\n",
    "\n",
    "hidden_output = 1 / (1 + np.exp(-X_test.dot(Wi_1.T) - Bi_1))\n",
    "Outer_layer_output = hidden_output.dot(Wi_2) + Bi_2\n",
    "expA = np.exp(Outer_layer_output)\n",
    "Y = expA / expA.sum()\n",
    "print(\" prob of class 0 >>>>>>>> {} \\n prob of class 1 >>>>>>>> {}\".format(Y[0], Y[1]))"
   ]
  },
  {
   "cell_type": "markdown",
   "metadata": {},
   "source": [
    "<h2> <span style = \"background-color : yellow\"> Main Part</span> <h2>"
   ]
  },
  {
   "cell_type": "code",
   "execution_count": 12,
   "metadata": {},
   "outputs": [
    {
     "name": "stdout",
     "output_type": "stream",
     "text": [
      "Model: \"sequential_2\"\n",
      "_________________________________________________________________\n",
      "Layer (type)                 Output Shape              Param #   \n",
      "=================================================================\n",
      "flatten_1 (Flatten)          (None, 784)               0         \n",
      "_________________________________________________________________\n",
      "dense_7 (Dense)              (None, 512)               401920    \n",
      "_________________________________________________________________\n",
      "leaky_re_lu_5 (LeakyReLU)    (None, 512)               0         \n",
      "_________________________________________________________________\n",
      "dense_8 (Dense)              (None, 256)               131328    \n",
      "_________________________________________________________________\n",
      "leaky_re_lu_6 (LeakyReLU)    (None, 256)               0         \n",
      "_________________________________________________________________\n",
      "dense_9 (Dense)              (None, 1)                 257       \n",
      "=================================================================\n",
      "Total params: 533,505\n",
      "Trainable params: 533,505\n",
      "Non-trainable params: 0\n",
      "_________________________________________________________________\n",
      "Model: \"sequential_3\"\n",
      "_________________________________________________________________\n",
      "Layer (type)                 Output Shape              Param #   \n",
      "=================================================================\n",
      "dense_10 (Dense)             (None, 256)               25856     \n",
      "_________________________________________________________________\n",
      "leaky_re_lu_7 (LeakyReLU)    (None, 256)               0         \n",
      "_________________________________________________________________\n",
      "batch_normalization_3 (Batch (None, 256)               1024      \n",
      "_________________________________________________________________\n",
      "dense_11 (Dense)             (None, 512)               131584    \n",
      "_________________________________________________________________\n",
      "leaky_re_lu_8 (LeakyReLU)    (None, 512)               0         \n",
      "_________________________________________________________________\n",
      "batch_normalization_4 (Batch (None, 512)               2048      \n",
      "_________________________________________________________________\n",
      "dense_12 (Dense)             (None, 1024)              525312    \n",
      "_________________________________________________________________\n",
      "leaky_re_lu_9 (LeakyReLU)    (None, 1024)              0         \n",
      "_________________________________________________________________\n",
      "batch_normalization_5 (Batch (None, 1024)              4096      \n",
      "_________________________________________________________________\n",
      "dense_13 (Dense)             (None, 784)               803600    \n",
      "_________________________________________________________________\n",
      "reshape_1 (Reshape)          (None, 28, 28, 1)         0         \n",
      "=================================================================\n",
      "Total params: 1,493,520\n",
      "Trainable params: 1,489,936\n",
      "Non-trainable params: 3,584\n",
      "_________________________________________________________________\n"
     ]
    }
   ],
   "source": [
    "optimizer = Adam(0.0002, 0.5) # Learning rate and momentum\n",
    "\n",
    "# Build and compile the discriminator first.\n",
    "# Generator will be trained as part of the compined model, later.\n",
    "# Pick the loss function and the type of metric to keep track.\n",
    "# Binary cross entropy as we are doing prediction and it is a better loss function compared to MSE or others.\n",
    "discriminator = build_discriminator()\n",
    "discriminator.compile(loss = \"binary_crossentropy\",\n",
    "                     optimizer = optimizer,\n",
    "                     metrics = [\"accuracy\"])\n",
    "\n",
    "# Build and compile our Discriminator, pick the loss function\n",
    "# Since we are only generating (faking) images, let us not track any metrics.\n",
    "generator = build_generator()\n",
    "generator.compile(loss = \"binary_crossentropy\", optimizer = optimizer)\n",
    "\n",
    "# This builds the Generator and defines the input noise.\n",
    "# In a GAN the Generator network takes noise z as an input to produce its images.\n",
    "z = Input(shape = (100,)) # Our random input to the generator\n",
    "img = generator(z)\n",
    "\n",
    "# This ensures that when we combine our networks *we only train the Generator*.\n",
    "# While Generator training we do not want Discriminator weights to be adjusted.\n",
    "# This dosen't affect the above Discriminator training.\n",
    "discriminator.trainable = False\n",
    "\n",
    "# This specifies that our Discriminator will take the images generated by our Generator\n",
    "# and true dataset and set its output to a parameter called valid, which whill indicate\n",
    "# whether the input is real or not.\n",
    "valid = discriminator(img) # Validity check on the generated image\n",
    "\n",
    "# Here we combined the models and also set our loss function and optimizer.\n",
    "# Again, we are only training the Generator here.\n",
    "# The ultimate goal here is for the Generator to fool the Discriminator.\n",
    "# The combined model (stacked Gen. and Discr.) takes noise as input => generates images => determines validity\n",
    "combined = Model(z, valid) # Input(z) : image / Output(valid) : validity\n",
    "combined.compile(loss = \"binary_crossentropy\", optimizer = optimizer)\n",
    "\n",
    "train(epochs = 2000, batch_size = 32, save_interval = 20)\n",
    "\n",
    "# Save model for future use to generate fake images\n",
    "# Not tested yet..l make sure right model is being saved..\n",
    "# Compare with GAN4\n",
    "\n",
    "generator.save(\"generator_model_test.h5\") # Test the model on GAN4_predict...\n",
    "\n",
    "# Epochs dictate the number of backward and forward propagations, the batch_size\n",
    "# indicates the number of training smaples per backward/forward propagation, and\n",
    "# sample_interval specifies after how many epochs we call our sample_image function\n"
   ]
  },
  {
   "cell_type": "code",
   "execution_count": null,
   "metadata": {},
   "outputs": [],
   "source": []
  }
 ],
 "metadata": {
  "kernelspec": {
   "display_name": "Python 3",
   "language": "python",
   "name": "python3"
  },
  "language_info": {
   "codemirror_mode": {
    "name": "ipython",
    "version": 3
   },
   "file_extension": ".py",
   "mimetype": "text/x-python",
   "name": "python",
   "nbconvert_exporter": "python",
   "pygments_lexer": "ipython3",
   "version": "3.7.9"
  }
 },
 "nbformat": 4,
 "nbformat_minor": 4
}
