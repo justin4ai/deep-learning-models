{
 "cells": [
  {
   "cell_type": "markdown",
   "metadata": {},
   "source": [
    "<h1><span style = \"background-color : skyblue\"> AlexNet Template </span> </h1>\n",
    "14 Fabruary, 2021 - <strong>Junyeong Ahn</strong>"
   ]
  },
  {
   "cell_type": "markdown",
   "metadata": {},
   "source": [
    "**The initial c_F and c_T's shape : (N(# of images), 480, 640, 3(color) or 1(grayscale))**"
   ]
  },
  {
   "cell_type": "code",
   "execution_count": null,
   "metadata": {},
   "outputs": [],
   "source": [
    "import pickle\n",
    "import numpy as np\n",
    "import cv2\n",
    "import tensorflow as tf\n",
    "from tensorflow.keras.models import Sequential\n",
    "from tensorflow.keras.layers import Dense, Dropout, Activation, Flatten, Conv2D, MaxPooling2D\n",
    "from tensorflow.keras.layers import BatchNormalization\n",
    "\n",
    "c_F = pickle.load(open(\"imagedata/seungbin_x_train_F.pickle\", \"rb\"))\n",
    "c_T = pickle.load(open(\"imagedata/seungbin_x_train_T.pickle\", \"rb\"))\n",
    "\n",
    "c_F = np.array(c_F)\n",
    "c_T = np.array(c_T)\n",
    "\n",
    "x = np.concatenate( (c_F, c_T), axis = 0 )\n",
    "\n",
    "y = [1 for i in range(len(c_F))] + [0 for i in range(len(c_T))]\n",
    "\n",
    "X = []\n",
    "\n",
    "for rows in x:\n",
    "    tmp = cv2.resize(rows, (227, 227))\n",
    "    X.append(tmp)\n",
    "    \n",
    "X = np.array(X)\n",
    "X = X.reshape(-1, 227, 227, 3)"
   ]
  },
  {
   "cell_type": "code",
   "execution_count": null,
   "metadata": {},
   "outputs": [],
   "source": [
    "import warnings\n",
    "warnings.filterwarnings(action = \"ignore\")"
   ]
  },
  {
   "cell_type": "code",
   "execution_count": null,
   "metadata": {},
   "outputs": [],
   "source": [
    "gpu_options = tf.GPUOptions(per_process_gpu_memory_fraction = 0.333)\n",
    "sess = tf.Session(config = tf.ConfigProto(gpu_options = gpu_options))"
   ]
  },
  {
   "cell_type": "code",
   "execution_count": null,
   "metadata": {},
   "outputs": [],
   "source": [
    "INPUT_SHAPE = (227, 227, 3)\n",
    "\n",
    "model = Sequential()\n",
    "\n",
    "# 1st Convolutional Layer\n",
    "model.add( Conv2D(filters=96, input_shape=(INPUT_SHAPE), kernel_size=(11,11), strides=(4,4), padding='valid') )\n",
    "model.add( Activation('relu') )\n",
    "\n",
    "# Max Pooling\n",
    "model.add( MaxPooling2D(pool_size=(3,3), strides=(2,2), padding='valid') )\n",
    "\n",
    "# 2nd Convolutional Layer\n",
    "model.add( Conv2D(filters=256, kernel_size=(5,5), strides=(1,1), padding='same') )\n",
    "model.add( Activation('relu') )\n",
    "\n",
    "# Max Pooling\n",
    "model.add( MaxPooling2D(pool_size=(3,3), strides=(2,2), padding='valid') )\n",
    "\n",
    "# 3rd Convolutional Layer\n",
    "model.add( Conv2D(filters=384, kernel_size=(3,3), strides=(1,1), padding='same') )\n",
    "model.add( Activation('relu') )\n",
    "\n",
    "# 4th Convolutional Layer\n",
    "model.add( Conv2D(filters=384, kernel_size=(3,3), strides=(1,1), padding='same') )\n",
    "model.add( Activation('relu') )\n",
    "\n",
    "# 5th Convolutional Layer\n",
    "model.add( Conv2D(filters=256, kernel_size=(3,3), strides=(1,1), padding='same') )\n",
    "model.add( Activation('relu') )\n",
    "\n",
    "# Max Pooling\n",
    "model.add( MaxPooling2D(pool_size=(3,3), strides=(2,2), padding='valid') )\n",
    "\n",
    "\n",
    "\n",
    "########################## Passing it to a Fully Connected layer ##########################\n",
    "model.add( Flatten() )\n",
    "\n",
    "K = INPUT_SHAPE[0] * INPUT_SHAPE[1] * INPUT_SHAPE[2]\n",
    "\n",
    "# 1st Fully Connected Layer\n",
    "model.add( Dense(4096, input_shape=( K, )) )\n",
    "model.add( Activation('relu') )\n",
    "# Add Dropout\n",
    "model.add( Dropout(0.4) )\n",
    "\n",
    "# 2nd Fully Connected Layer\n",
    "model.add( Dense(4096) )\n",
    "model.add( Activation('relu') )\n",
    "# Add Dropout\n",
    "model.add( Dropout(0.4) )\n",
    "\n",
    "# Output Layer\n",
    "model.add( Dense(2) )\n",
    "model.add( Activation('softmax') )\n",
    "          \n",
    "opt = tf.keras.optimizers.Adam(lr = 1e-3, decay = 1e-5)\n",
    "\n",
    "model.compile(loss = \"sparse_categorical_crossentropy\", # or binary_crossentropy : Dense(1) & Relu\n",
    "             optimizer = opt,\n",
    "             metrics = ['accuracy'])\n",
    "\n",
    "model.summary()"
   ]
  },
  {
   "cell_type": "markdown",
   "metadata": {},
   "source": [
    "<a href=\"https://towardsdatascience.com/alexnet-8b05c5eb88d4#:~:text=A%20momentum%20of%200.9%20has,batches%20lead%20to%20better%20models.\"><strong>Batch size is fixed to 128 (++ momentum == 0.9)</strong></a>"
   ]
  },
  {
   "cell_type": "code",
   "execution_count": null,
   "metadata": {},
   "outputs": [],
   "source": [
    "model.fit(X, y, batch_size = 128, epochs = 100, validation_split = 0.1)  # batch_size\n",
    "# model.save(\"AlexNet_Template.model\")"
   ]
  }
 ],
 "metadata": {
  "kernelspec": {
   "display_name": "Python 3",
   "language": "python",
   "name": "python3"
  },
  "language_info": {
   "codemirror_mode": {
    "name": "ipython",
    "version": 3
   },
   "file_extension": ".py",
   "mimetype": "text/x-python",
   "name": "python",
   "nbconvert_exporter": "python",
   "pygments_lexer": "ipython3",
   "version": "3.7.9"
  }
 },
 "nbformat": 4,
 "nbformat_minor": 4
}
