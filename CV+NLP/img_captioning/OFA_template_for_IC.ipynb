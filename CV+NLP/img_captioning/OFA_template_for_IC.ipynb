{
  "nbformat": 4,
  "nbformat_minor": 0,
  "metadata": {
    "colab": {
      "provenance": [],
      "collapsed_sections": [
        "uh-0eaG0UGfp"
      ]
    },
    "kernelspec": {
      "name": "python3",
      "display_name": "Python 3"
    },
    "language_info": {
      "name": "python"
    }
  },
  "cells": [
    {
      "cell_type": "markdown",
      "source": [
        "# OFA with Transformer"
      ],
      "metadata": {
        "id": "d4Mb3OuJT9pp"
      }
    },
    {
      "cell_type": "markdown",
      "source": [
        "## Preparation"
      ],
      "metadata": {
        "id": "IKIku0O3UA5A"
      }
    },
    {
      "cell_type": "markdown",
      "source": [
        "### Google drive"
      ],
      "metadata": {
        "id": "uh-0eaG0UGfp"
      }
    },
    {
      "cell_type": "code",
      "source": [
        "from google.colab import drive\n",
        "import os\n",
        "import shutil\n",
        "drive.mount(\"/content/gdrive\")"
      ],
      "metadata": {
        "colab": {
          "base_uri": "https://localhost:8080/"
        },
        "id": "up6zPU882nSo",
        "outputId": "2f8ffda4-34fb-4b7c-8882-7796c9e6d13b"
      },
      "execution_count": null,
      "outputs": [
        {
          "output_type": "stream",
          "name": "stdout",
          "text": [
            "Mounted at /content/gdrive\n"
          ]
        }
      ]
    },
    {
      "cell_type": "code",
      "source": [
        "from google.colab import drive\n",
        "import os\n",
        "import shutil\n",
        "drive.mount(\"/content/gdrive\")\n",
        "\n",
        "%cd /content/gdrive/My Drive/OFA-sys"
      ],
      "metadata": {
        "colab": {
          "base_uri": "https://localhost:8080/"
        },
        "id": "eKmqmW4SSGNG",
        "outputId": "959e1cc0-3b7a-4dfe-d0b8-40ced61b27ca"
      },
      "execution_count": null,
      "outputs": [
        {
          "output_type": "stream",
          "name": "stdout",
          "text": [
            "Drive already mounted at /content/gdrive; to attempt to forcibly remount, call drive.mount(\"/content/gdrive\", force_remount=True).\n",
            "/content/gdrive/My Drive/OFA-sys\n"
          ]
        }
      ]
    },
    {
      "cell_type": "markdown",
      "source": [
        "### fetching files"
      ],
      "metadata": {
        "id": "ouMZCfFPUKWS"
      }
    },
    {
      "cell_type": "code",
      "execution_count": null,
      "metadata": {
        "colab": {
          "base_uri": "https://localhost:8080/"
        },
        "id": "FSvHjbuE1wql",
        "outputId": "fd1bf7c2-58fc-460d-bef3-16226820d3da"
      },
      "outputs": [
        {
          "output_type": "stream",
          "name": "stdout",
          "text": [
            "Cloning into 'OFA'...\n",
            "remote: Enumerating objects: 5696, done.\u001b[K\n",
            "remote: Counting objects: 100% (48/48), done.\u001b[K\n",
            "remote: Compressing objects: 100% (29/29), done.\u001b[K\n",
            "remote: Total 5696 (delta 26), reused 24 (delta 15), pack-reused 5648\u001b[K\n",
            "Receiving objects: 100% (5696/5696), 97.85 MiB | 15.09 MiB/s, done.\n",
            "Resolving deltas: 100% (2105/2105), done.\n",
            "Checking out files: 100% (3223/3223), done.\n"
          ]
        }
      ],
      "source": [
        "!git clone --single-branch --branch feature/add_transformers https://github.com/OFA-Sys/OFA.git\n",
        "!pip install OFA/transformers/\n",
        "!git lfs install\n",
        "!git clone https://huggingface.co/OFA-Sys/OFA-base"
      ]
    },
    {
      "cell_type": "markdown",
      "source": [
        "## Model"
      ],
      "metadata": {
        "id": "Oja4fXRyURky"
      }
    },
    {
      "cell_type": "code",
      "source": [
        "%cd /content/gdrive/My Drive/OFA-sys\n",
        "!pip install OFA/transformers/\n",
        "\n",
        "from PIL import Image\n",
        "from torchvision import transforms\n",
        "from transformers import OFATokenizer, OFAModel\n",
        "from transformers.models.ofa.generate import sequence_generator\n",
        "\n",
        "mean, std = [0.5, 0.5, 0.5], [0.5, 0.5, 0.5]\n",
        "resolution = 256\n",
        "\n",
        "patch_resize_transform = transforms.Compose([\n",
        "    lambda image: image.convert(\"RGB\"),\n",
        "    transforms.Resize((resolution, resolution), interpolation=Image.BICUBIC),\n",
        "    transforms.ToTensor(), \n",
        "    transforms.Normalize(mean=mean, std=std)\n",
        "])\n",
        "\n",
        "ckpt_dir='./OFA-base'\n",
        "tokenizer = OFATokenizer.from_pretrained(ckpt_dir)"
      ],
      "metadata": {
        "id": "aezZU_ZY2Kzz",
        "colab": {
          "base_uri": "https://localhost:8080/"
        },
        "outputId": "40065f9c-f99b-42cf-87bc-e8c9c7d1009b"
      },
      "execution_count": null,
      "outputs": [
        {
          "output_type": "stream",
          "name": "stdout",
          "text": [
            "/content/gdrive/My Drive/OFA-sys\n",
            "Looking in indexes: https://pypi.org/simple, https://us-python.pkg.dev/colab-wheels/public/simple/\n",
            "Processing ./OFA/transformers\n",
            "\u001b[33m  DEPRECATION: A future pip version will change local packages to be built in-place without first copying to a temporary directory. We recommend you use --use-feature=in-tree-build to test your packages with this new behavior before it becomes the default.\n",
            "   pip 21.3 will remove support for this functionality. You can find discussion regarding this at https://github.com/pypa/pip/issues/7555.\u001b[0m\n",
            "  Installing build dependencies ... \u001b[?25l\u001b[?25hdone\n",
            "  Getting requirements to build wheel ... \u001b[?25l\u001b[?25hdone\n",
            "    Preparing wheel metadata ... \u001b[?25l\u001b[?25hdone\n",
            "Requirement already satisfied: filelock in /usr/local/lib/python3.7/dist-packages (from transformers==4.18.0.dev0) (3.8.0)\n",
            "Requirement already satisfied: importlib-metadata in /usr/local/lib/python3.7/dist-packages (from transformers==4.18.0.dev0) (4.12.0)\n",
            "Requirement already satisfied: numpy>=1.17 in /usr/local/lib/python3.7/dist-packages (from transformers==4.18.0.dev0) (1.21.6)\n",
            "Collecting huggingface-hub<1.0,>=0.1.0\n",
            "  Downloading huggingface_hub-0.9.1-py3-none-any.whl (120 kB)\n",
            "\u001b[K     |████████████████████████████████| 120 kB 4.1 MB/s \n",
            "\u001b[?25hRequirement already satisfied: regex!=2019.12.17 in /usr/local/lib/python3.7/dist-packages (from transformers==4.18.0.dev0) (2022.6.2)\n",
            "Requirement already satisfied: pyyaml>=5.1 in /usr/local/lib/python3.7/dist-packages (from transformers==4.18.0.dev0) (6.0)\n",
            "Collecting sacremoses\n",
            "  Downloading sacremoses-0.0.53.tar.gz (880 kB)\n",
            "\u001b[K     |████████████████████████████████| 880 kB 42.9 MB/s \n",
            "\u001b[?25hCollecting tokenizers!=0.11.3,>=0.11.1\n",
            "  Downloading tokenizers-0.12.1-cp37-cp37m-manylinux_2_12_x86_64.manylinux2010_x86_64.whl (6.6 MB)\n",
            "\u001b[K     |████████████████████████████████| 6.6 MB 48.1 MB/s \n",
            "\u001b[?25hRequirement already satisfied: tqdm>=4.27 in /usr/local/lib/python3.7/dist-packages (from transformers==4.18.0.dev0) (4.64.1)\n",
            "Requirement already satisfied: packaging>=20.0 in /usr/local/lib/python3.7/dist-packages (from transformers==4.18.0.dev0) (21.3)\n",
            "Requirement already satisfied: requests in /usr/local/lib/python3.7/dist-packages (from transformers==4.18.0.dev0) (2.23.0)\n",
            "Requirement already satisfied: typing-extensions>=3.7.4.3 in /usr/local/lib/python3.7/dist-packages (from huggingface-hub<1.0,>=0.1.0->transformers==4.18.0.dev0) (4.1.1)\n",
            "Requirement already satisfied: pyparsing!=3.0.5,>=2.0.2 in /usr/local/lib/python3.7/dist-packages (from packaging>=20.0->transformers==4.18.0.dev0) (3.0.9)\n",
            "Requirement already satisfied: zipp>=0.5 in /usr/local/lib/python3.7/dist-packages (from importlib-metadata->transformers==4.18.0.dev0) (3.8.1)\n",
            "Requirement already satisfied: idna<3,>=2.5 in /usr/local/lib/python3.7/dist-packages (from requests->transformers==4.18.0.dev0) (2.10)\n",
            "Requirement already satisfied: urllib3!=1.25.0,!=1.25.1,<1.26,>=1.21.1 in /usr/local/lib/python3.7/dist-packages (from requests->transformers==4.18.0.dev0) (1.24.3)\n",
            "Requirement already satisfied: chardet<4,>=3.0.2 in /usr/local/lib/python3.7/dist-packages (from requests->transformers==4.18.0.dev0) (3.0.4)\n",
            "Requirement already satisfied: certifi>=2017.4.17 in /usr/local/lib/python3.7/dist-packages (from requests->transformers==4.18.0.dev0) (2022.6.15)\n",
            "Requirement already satisfied: six in /usr/local/lib/python3.7/dist-packages (from sacremoses->transformers==4.18.0.dev0) (1.15.0)\n",
            "Requirement already satisfied: click in /usr/local/lib/python3.7/dist-packages (from sacremoses->transformers==4.18.0.dev0) (7.1.2)\n",
            "Requirement already satisfied: joblib in /usr/local/lib/python3.7/dist-packages (from sacremoses->transformers==4.18.0.dev0) (1.1.0)\n",
            "Building wheels for collected packages: transformers, sacremoses\n",
            "  Building wheel for transformers (PEP 517) ... \u001b[?25l\u001b[?25hdone\n",
            "  Created wheel for transformers: filename=transformers-4.18.0.dev0-py3-none-any.whl size=3916733 sha256=2e839469edce40fb94331d15d8076e45fb62ba14d1dcf89db444f736795f409a\n",
            "  Stored in directory: /tmp/pip-ephem-wheel-cache-sc8pgcg6/wheels/a5/38/2a/43ca28b935d4343a3c01f824fca3397aa1fb6fc40cb9148166\n",
            "  Building wheel for sacremoses (setup.py) ... \u001b[?25l\u001b[?25hdone\n",
            "  Created wheel for sacremoses: filename=sacremoses-0.0.53-py3-none-any.whl size=895260 sha256=5785373f7871b007b1df8005b25a6d50e810eec4bc60e9e9539976d677b67fb8\n",
            "  Stored in directory: /root/.cache/pip/wheels/87/39/dd/a83eeef36d0bf98e7a4d1933a4ad2d660295a40613079bafc9\n",
            "Successfully built transformers sacremoses\n",
            "Installing collected packages: tokenizers, sacremoses, huggingface-hub, transformers\n",
            "Successfully installed huggingface-hub-0.9.1 sacremoses-0.0.53 tokenizers-0.12.1 transformers-4.18.0.dev0\n"
          ]
        },
        {
          "output_type": "stream",
          "name": "stderr",
          "text": [
            "/usr/local/lib/python3.7/dist-packages/torchvision/transforms/transforms.py:333: UserWarning: Argument 'interpolation' of type int is deprecated since 0.13 and will be removed in 0.15. Please use InterpolationMode enum.\n",
            "  \"Argument 'interpolation' of type int is deprecated since 0.13 and will be removed in 0.15. \"\n"
          ]
        },
        {
          "output_type": "stream",
          "name": "stdout",
          "text": [
            "./OFA-base\n",
            "<super: <class 'OFATokenizer'>, <OFATokenizer object>>\n"
          ]
        }
      ]
    },
    {
      "cell_type": "markdown",
      "source": [
        "## Test"
      ],
      "metadata": {
        "id": "WGppQFRRUgeA"
      }
    },
    {
      "cell_type": "code",
      "source": [
        "txt = \" what does the image describe?\"\n",
        "inputs = tokenizer([txt], return_tensors=\"pt\").input_ids\n",
        "!wget http://farm4.staticflickr.com/3539/3836680545_2ccb331621_z.jpg \n",
        "!mv 3836680545_2ccb331621_z.jpg  test.jpg\n",
        "img = Image.open('./test.jpg')\n",
        "patch_img = patch_resize_transform(img).unsqueeze(0)\n",
        "\n",
        "model = OFAModel.from_pretrained(ckpt_dir, use_cache=False)"
      ],
      "metadata": {
        "colab": {
          "base_uri": "https://localhost:8080/"
        },
        "id": "Jngc28By2sZS",
        "outputId": "c4f4accd-0cfc-47eb-e89d-32471728bdf9"
      },
      "execution_count": null,
      "outputs": [
        {
          "output_type": "stream",
          "name": "stdout",
          "text": [
            "--2022-09-15 13:18:10--  http://farm4.staticflickr.com/3539/3836680545_2ccb331621_z.jpg\n",
            "Resolving farm4.staticflickr.com (farm4.staticflickr.com)... 52.84.159.78, 2600:9000:2377:2000:0:5a51:64c9:c681, 2600:9000:2377:9a00:0:5a51:64c9:c681, ...\n",
            "Connecting to farm4.staticflickr.com (farm4.staticflickr.com)|52.84.159.78|:80... connected.\n",
            "HTTP request sent, awaiting response... 301 Moved Permanently\n",
            "Location: https://farm4.staticflickr.com/3539/3836680545_2ccb331621_z.jpg [following]\n",
            "--2022-09-15 13:18:10--  https://farm4.staticflickr.com/3539/3836680545_2ccb331621_z.jpg\n",
            "Connecting to farm4.staticflickr.com (farm4.staticflickr.com)|52.84.159.78|:443... connected.\n",
            "HTTP request sent, awaiting response... 200 OK\n",
            "Length: unspecified [image/jpeg]\n",
            "Saving to: ‘3836680545_2ccb331621_z.jpg’\n",
            "\n",
            "3836680545_2ccb3316     [ <=>                ] 131.20K  --.-KB/s    in 0.03s   \n",
            "\n",
            "2022-09-15 13:18:11 (4.38 MB/s) - ‘3836680545_2ccb331621_z.jpg’ saved [134347]\n",
            "\n"
          ]
        }
      ]
    },
    {
      "cell_type": "code",
      "source": [
        "# ! pip install wget\n",
        "import wget\n",
        "import os\n",
        "\n",
        "url = \"https://images.saatchiart.com/saatchi/1798153/art/8560318/7624146-CBEYTUHG-7.jpg\"\n",
        "def add_Test(url, out_path = \".\"):\n",
        "  \n",
        "    wget.download(url, out = out_path)\n",
        "\n",
        "dir_path = r'./testImg'\n",
        "cnt = len([entry for entry in os.listdir(dir_path) if os.path.isfile(os.path.join(dir_path, entry))])\n",
        "add_Test(url, f'./testImg/test{cnt + 1}.jpg')\n",
        "\n",
        "#https://github.com/minyong-jeong/minyong-jeong.github.io/raw/master/images/ryan.jpg\n",
        "#http://farm4.staticflickr.com/3539/3836680545_2ccb331621_z.jpg \n",
        "#https://www.cleverfiles.com/howto/wp-content/uploads/2018/03/minion.jpg\n",
        "#https://image.shutterstock.com/image-vector/architecture-sketch-drawing-buildingcity-600w-179448743.jpg\n",
        "#https://images.saatchiart.com/saatchi/1798153/art/8560318/7624146-CBEYTUHG-7.jpg\n",
        "#https://c8.alamy.com/zooms/9/ece0745d430e41f4a45e947817e9285d/w8tgbd.jpg\n",
        "#https://easydrawingart.com/wp-content/uploads/2019/07/how-to-easily-draw-a-hammer.jpg\n",
        "#https://en.pimg.jp/082/987/446/1/82987446.jpg"
      ],
      "metadata": {
        "id": "5hW3-DGbTkBV"
      },
      "execution_count": null,
      "outputs": []
    },
    {
      "cell_type": "markdown",
      "source": [
        "## Choice of Generators"
      ],
      "metadata": {
        "id": "LSrWcp4L8Mn9"
      }
    },
    {
      "cell_type": "code",
      "source": [
        "generator = sequence_generator.SequenceGenerator(\n",
        "    tokenizer=tokenizer,\n",
        "    beam_size=5,\n",
        "    max_len_b=16,\n",
        "    min_len=0,\n",
        "    no_repeat_ngram_size=3,\n",
        ")\n",
        "\n",
        "import torch\n",
        "data = {}\n",
        "data[\"net_input\"] = {\"input_ids\": inputs, 'patch_images': patch_img, 'patch_masks':torch.tensor([True])}\n",
        "\n",
        "#gen_output = generator.generate([model], data)\n",
        "#gen = [gen_output[i][0][\"tokens\"] for i in range(len(gen_output))]\n",
        "\n",
        "#display(img)\n",
        "#print(tokenizer.batch_decode(gen, skip_special_tokens=True)[0].strip())\n",
        "\n",
        "gen = model.generate(inputs, patch_images=patch_img, num_beams=5, no_repeat_ngram_size=3) # using transformer\n",
        "\n",
        "display(img)\n",
        "print(tokenizer.batch_decode(gen, skip_special_tokens=True)[0].strip())"
      ],
      "metadata": {
        "id": "65DcnoJB3Qt_"
      },
      "execution_count": null,
      "outputs": []
    },
    {
      "cell_type": "code",
      "source": [
        "gen = model.generate(inputs, patch_images=patch_img, num_beams=5, no_repeat_ngram_size=3) # using transformer"
      ],
      "metadata": {
        "id": "MuKeE62ZVpFI"
      },
      "execution_count": null,
      "outputs": []
    }
  ]
}